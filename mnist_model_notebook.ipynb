{
 "cells": [
  {
   "cell_type": "code",
   "execution_count": null,
   "id": "MJUe",
   "metadata": {
    "marimo": {
     "name": "import_packages"
    }
   },
   "outputs": [],
   "source": [
    "import marimo as mo\n",
    "import tensorflow as tf\n",
    "from tensorflow.keras.models import Sequential # type: ignore\n",
    "from tensorflow.keras.layers import Input, Conv2D, MaxPooling2D, Flatten, Dense, Dropout # type: ignore\n",
    "from tensorflow.keras.callbacks import EarlyStopping # type: ignore\n",
    "from sklearn.model_selection import train_test_split\n",
    "from sklearn.metrics import confusion_matrix, classification_report\n",
    "import seaborn as sns\n",
    "\n",
    "import numpy as np\n",
    "import matplotlib.pyplot as plt\n",
    "print(f\"{tf.__version__ = }\")\n",
    "print(f\"{np.__version__ = }\")\n",
    "print(f\"{mo.__version__ = }\")"
   ]
  },
  {
   "cell_type": "markdown",
   "id": "Hbol",
   "metadata": {
    "marimo": {
     "config": {
      "hide_code": true
     }
    }
   },
   "source": [
    "# MNIST Digit Recognizer"
   ]
  },
  {
   "cell_type": "code",
   "execution_count": null,
   "id": "vblA",
   "metadata": {},
   "outputs": [],
   "source": [
    "# Load the MNIST dataset from Keras\n",
    "(x_train_full, y_train_full), (x_test, y_test) = tf.keras.datasets.mnist.load_data()\n",
    "\n",
    "# Split the full training set\n",
    "x_train, x_val, y_train, y_val = train_test_split(\n",
    "    x_train_full, y_train_full, \n",
    "    test_size=12000, \n",
    "    random_state=42 # for reproducibility\n",
    ")\n",
    "\n",
    "# print(f\"Shape of x_train: {x_train.shape}\")\n",
    "# print(f\"Shape of x_val: {x_val.shape}\")\n",
    "# print(f\"Shape of x_test: {x_test.shape}\")\n",
    "\n",
    "# Normalize the pixel values to be between 0 and 1.\n",
    "# This helps the neural network learn more efficiently.\n",
    "def process_data(x):\n",
    "    x = x.astype('float32') / 255.0\n",
    "    # Reshape the data to fit the CNN input format (batch, height, width, channels).\n",
    "    # MNIST images are grayscale, so they have 1 channel.\n",
    "    return np.expand_dims(x, axis=-1)\n",
    "\n",
    "x_train = process_data(x_train)\n",
    "x_val = process_data(x_val)\n",
    "x_test = process_data(x_test)\n",
    "\n",
    "print(f\"Shape of x_train: {x_train.shape}\")\n",
    "print(f\"Shape of x_val: {x_val.shape}\")\n",
    "print(f\"Shape of x_test: {x_test.shape}\")"
   ]
  },
  {
   "cell_type": "markdown",
   "id": "bkHC",
   "metadata": {
    "marimo": {
     "config": {
      "hide_code": true
     }
    }
   },
   "source": [
    "## Show random images"
   ]
  },
  {
   "cell_type": "code",
   "execution_count": null,
   "id": "lEQa",
   "metadata": {
    "marimo": {
     "config": {
      "hide_code": true
     }
    }
   },
   "outputs": [],
   "source": [
    "num_images_slider = mo.ui.slider(start=1, stop=20, value=10, label=\"#### Number of images to display\", step=1)"
   ]
  },
  {
   "cell_type": "code",
   "execution_count": null,
   "id": "PKri",
   "metadata": {
    "marimo": {
     "config": {
      "hide_code": true
     }
    }
   },
   "outputs": [],
   "source": [
    "# --- Plotting function with dynamic grid ---\n",
    "def plot_images(num_images, x_train, y_train):\n",
    "    \"\"\"\n",
    "    Plots a dynamic grid of random images from the dataset.\n",
    "    \"\"\"\n",
    "\n",
    "    # Select random indices to display\n",
    "    random_indices = np.random.choice(x_train.shape[0], size=num_images, replace=False)\n",
    "\n",
    "    # Determine the grid size dynamically\n",
    "    cols = min(num_images, 5)\n",
    "    rows = int(np.ceil(num_images / cols))\n",
    "\n",
    "    # Create the figure and display the images\n",
    "    fig, axes = plt.subplots(rows, cols, figsize=(cols * 2, rows * 2))\n",
    "\n",
    "    # Handle the case of a single subplot\n",
    "    if num_images == 1:\n",
    "        axes = np.array([axes])\n",
    "\n",
    "    axes = axes.ravel()\n",
    "\n",
    "    for i, idx in enumerate(random_indices):\n",
    "        axes[i].imshow(x_train[idx], cmap='gray')\n",
    "        axes[i].set_title(f\"Label: {y_train[idx]}\")\n",
    "        axes[i].axis('off')\n",
    "\n",
    "    # Hide unused axes\n",
    "    for j in range(num_images, len(axes)):\n",
    "        axes[j].axis('off')\n",
    "\n",
    "    plt.tight_layout()\n",
    "\n",
    "    # Display the plot in Marimo\n",
    "    return fig\n",
    "\n",
    "# The function will re-execute whenever `num_images_slider.value` changes\n",
    "\n",
    "mo.md(\n",
    "    f\"\"\"\n",
    "    {num_images_slider}\n",
    "\n",
    "    **Here's a preview of the images you've selected**:\n",
    "    {mo.as_html(plot_images(num_images_slider.value, x_train, y_train))}\n",
    "\n",
    "    \"\"\"\n",
    ")"
   ]
  },
  {
   "cell_type": "markdown",
   "id": "Xref",
   "metadata": {
    "marimo": {
     "config": {
      "hide_code": true
     }
    }
   },
   "source": [
    "Each element in the rectangular tensor corresponds to a number which represents a pixel intensity, as demonstrated by the following image:\n",
    "\n",
    "<img src=\"https://s3-api.us-geo.objectstorage.softlayer.net/cf-courses-data/CognitiveClass/DL0110EN/notebook_images%20/chapter3/3.32_image_values.png\" width=\"550\" alt=\"MNIST elements\" />"
   ]
  },
  {
   "cell_type": "code",
   "execution_count": null,
   "id": "SFPL",
   "metadata": {
    "marimo": {
     "config": {
      "hide_code": true
     }
    }
   },
   "outputs": [],
   "source": [
    "mo.md(\"---\")\n",
    "mo.md(\"## Model Definition & Training\")"
   ]
  },
  {
   "cell_type": "code",
   "execution_count": null,
   "id": "BYtC",
   "metadata": {},
   "outputs": [],
   "source": [
    "def create_cnn_model():\n",
    "    \"\"\"Defines and compiles the CNN model.\"\"\"\n",
    "    model = Sequential([\n",
    "        Input(shape=(28, 28, 1)),\n",
    "        Conv2D(32, (3, 3), activation='relu'),\n",
    "        MaxPooling2D((2, 2)),\n",
    "        Conv2D(64, (3, 3), activation='relu'),\n",
    "        MaxPooling2D((2, 2)),\n",
    "        Dropout(0.25),\n",
    "        Flatten(),\n",
    "        Dense(128, activation='relu'),\n",
    "        Dropout(0.5),\n",
    "        Dense(10, activation='softmax')\n",
    "    ]) # The final layer: 10 neurons for the 10 digits.\n",
    "\n",
    "    #  Compile the model with an optimizer, a loss function, and metrics.\n",
    "    model.compile(optimizer='adam',\n",
    "                  loss='sparse_categorical_crossentropy',\n",
    "                  metrics=['accuracy'])\n",
    "    return model\n",
    "\n",
    "# Display the model's architecture summary.\n",
    "model = create_cnn_model()\n",
    "model.summary()"
   ]
  },
  {
   "cell_type": "code",
   "execution_count": null,
   "id": "RGSE",
   "metadata": {
    "marimo": {
     "config": {
      "hide_code": true
     }
    }
   },
   "outputs": [],
   "source": [
    "# epochs_slider = mo.ui.slider(\n",
    "#     start=1, \n",
    "#     stop=20, \n",
    "#     value=5, \n",
    "#     label=\"Number of Epochs\"\n",
    "# )\n",
    "# batch_size_slider = mo.ui.slider(\n",
    "#     start=16, \n",
    "#     stop=164, \n",
    "#     value=64, \n",
    "#     step=16, \n",
    "#     label=\"Batch Size\"\n",
    "# )\n",
    "# mo.md(\n",
    "#     f\"\"\"\n",
    "#     {epochs_slider}  \n",
    "#     {batch_size_slider}\n",
    "#     \"\"\"\n",
    "# )"
   ]
  },
  {
   "cell_type": "code",
   "execution_count": null,
   "id": "Kclp",
   "metadata": {
    "marimo": {
     "name": "training"
    }
   },
   "outputs": [],
   "source": [
    "# Train the model using the preprocessed data.\n",
    "epochs = 20\n",
    "batch_size = 128\n",
    "\n",
    "# Define the EarlyStopping callback\n",
    "# It will monitor 'val_loss' and stop if it doesn't improve for 3 consecutive epochs\n",
    "early_stopping = EarlyStopping(\n",
    "    monitor='val_loss',\n",
    "    patience=3,\n",
    "    restore_best_weights=True  # Restores the model weights from the epoch with the best value of the monitored quantity.\n",
    ")\n",
    "\n",
    "print(\"--- Starting Model Training ---\")\n",
    "print(f\"--- epochs = {epochs}\")\n",
    "print(f\"--- batchs = {batch_size} ==> iter : {len(x_train) / batch_size = }\")\n",
    "history = model.fit(x_train, y_train,\n",
    "                    epochs=epochs, batch_size=batch_size,\n",
    "                    validation_data=(x_val, y_val),\n",
    "                    callbacks=[early_stopping],\n",
    "                    verbose=2)"
   ]
  },
  {
   "cell_type": "markdown",
   "id": "emfo",
   "metadata": {
    "marimo": {
     "config": {
      "hide_code": true
     }
    }
   },
   "source": [
    "## Model Evaluation & Saving"
   ]
  },
  {
   "cell_type": "code",
   "execution_count": null,
   "id": "Hstk",
   "metadata": {},
   "outputs": [],
   "source": [
    "# Evaluate the model on the unseen test data.\n",
    "loss, accuracy = model.evaluate(x_test, y_test, verbose=0)\n",
    "print(f\"Final Test Accuracy: {accuracy:.4f}\")\n",
    "\n",
    "plt.figure(figsize=(15,10))\n",
    "\n",
    "\n",
    "# Plot the training and validation accuracy over the epochs to check for overfitting.\n",
    "plt.subplot(2,1,1)\n",
    "plt.plot(history.history['accuracy'], label='Training Accuracy')\n",
    "plt.plot(history.history['val_accuracy'], label='Validation Accuracy')\n",
    "plt.title('Model Accuracy over Epochs')\n",
    "plt.xlabel('Epoch')\n",
    "plt.ylabel('Accuracy')\n",
    "plt.legend()\n",
    "\n",
    "# Plot loss evolution\n",
    "plt.subplot(2,1,2)\n",
    "plt.plot(history.history['loss'], label='Training loss')\n",
    "plt.plot(history.history['val_loss'], label='Validation loss')\n",
    "plt.title('Model Loss over Epochs')\n",
    "plt.xlabel('Epoch')\n",
    "plt.ylabel('Loss')\n",
    "\n",
    "plt.legend()\n",
    "plt.show()"
   ]
  },
  {
   "cell_type": "code",
   "execution_count": null,
   "id": "nWHF",
   "metadata": {},
   "outputs": [],
   "source": [
    "# Make predictions on the test set\n",
    "y_pred_probs = model.predict(x_test)\n",
    "y_pred = np.argmax(y_pred_probs, axis=1)"
   ]
  },
  {
   "cell_type": "code",
   "execution_count": null,
   "id": "iLit",
   "metadata": {},
   "outputs": [],
   "source": [
    "# Generate and print the classification report\n",
    "print(\"\\n--- Classification Report ---\")\n",
    "print(classification_report(y_test, y_pred))"
   ]
  },
  {
   "cell_type": "code",
   "execution_count": null,
   "id": "ZHCJ",
   "metadata": {},
   "outputs": [],
   "source": [
    "cm = confusion_matrix(y_test, y_pred)\n",
    "\n",
    "# Visualize the confusion matrix using a heatmap\n",
    "plt.figure(figsize=(10, 8))\n",
    "sns.heatmap(cm, annot=True, fmt='d', cmap='Blues', cbar=False)\n",
    "plt.xlabel('Predicted Label')\n",
    "plt.ylabel('True Label')\n",
    "plt.title('Confusion Matrix')\n",
    "plt.show()"
   ]
  },
  {
   "cell_type": "code",
   "execution_count": null,
   "id": "ROlb",
   "metadata": {},
   "outputs": [],
   "source": [
    "# Save the trained model to a file.\n",
    "model.save('model/mnist_cnn_model.keras')\n",
    "print(\"Model successfully saved as 'mnist_cnn_model.h5'.\")"
   ]
  }
 ],
 "metadata": {
  "kernelspec": {
   "display_name": "venv",
   "language": "python",
   "name": "python3"
  },
  "language_info": {
   "codemirror_mode": {
    "name": "ipython",
    "version": 3
   },
   "file_extension": ".py",
   "mimetype": "text/x-python",
   "name": "python",
   "nbconvert_exporter": "python",
   "pygments_lexer": "ipython3",
   "version": "3.13.7"
  }
 },
 "nbformat": 4,
 "nbformat_minor": 5
}
